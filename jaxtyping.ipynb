{
 "cells": [
  {
   "cell_type": "code",
   "execution_count": 1,
   "id": "6f9e9645-418f-4f33-8b91-8de131a1b196",
   "metadata": {},
   "outputs": [],
   "source": [
    "%load_ext autoreload\n",
    "%autoreload 2\n",
    "import torch\n",
    "import main"
   ]
  },
  {
   "cell_type": "code",
   "execution_count": 2,
   "id": "8ae58ff4-e329-4f9f-a99c-dbb5e5eb97ef",
   "metadata": {},
   "outputs": [
    {
     "data": {
      "text/plain": [
       "tensor(1.)"
      ]
     },
     "execution_count": 2,
     "metadata": {},
     "output_type": "execute_result"
    }
   ],
   "source": [
    "main.determinant_2x2(torch.Tensor([[1, 0], [0, 1]]))"
   ]
  },
  {
   "cell_type": "code",
   "execution_count": 3,
   "id": "690e377a-9fb8-40d8-8f3a-397fd7672bcf",
   "metadata": {},
   "outputs": [
    {
     "data": {
      "text/plain": [
       "tensor([[0., 0.],\n",
       "        [0., 0.],\n",
       "        [0., 0.]])"
      ]
     },
     "execution_count": 3,
     "metadata": {},
     "output_type": "execute_result"
    }
   ],
   "source": [
    "main.matrix_multiply(torch.zeros(3, 4), torch.zeros(4, 2))"
   ]
  },
  {
   "cell_type": "code",
   "execution_count": 4,
   "id": "609ac6d9-b69a-47d5-8820-c9b007e5a138",
   "metadata": {},
   "outputs": [
    {
     "data": {
      "text/plain": [
       "tensor([0., 0.])"
      ]
     },
     "execution_count": 4,
     "metadata": {},
     "output_type": "execute_result"
    }
   ],
   "source": [
    "main.tensor_multiply(torch.zeros(4), torch.zeros(4, 2))"
   ]
  },
  {
   "cell_type": "code",
   "execution_count": 5,
   "id": "9889fac2-771a-4e56-bce9-59421795c095",
   "metadata": {},
   "outputs": [
    {
     "data": {
      "text/plain": [
       "tensor([[[0., 0.],\n",
       "         [0., 0.],\n",
       "         [0., 0.]],\n",
       "\n",
       "        [[0., 0.],\n",
       "         [0., 0.],\n",
       "         [0., 0.]]])"
      ]
     },
     "execution_count": 5,
     "metadata": {},
     "output_type": "execute_result"
    }
   ],
   "source": [
    "main.tensor_multiply(torch.zeros(2, 3, 4), torch.zeros(4, 2))"
   ]
  },
  {
   "cell_type": "code",
   "execution_count": 6,
   "id": "073ec5d7-cd62-435f-a8e3-dc0ef9cb76bb",
   "metadata": {},
   "outputs": [
    {
     "data": {
      "text/plain": [
       "tensor([[[1., 1., 1., 1.],\n",
       "         [1., 1., 1., 1.],\n",
       "         [1., 1., 1., 1.]],\n",
       "\n",
       "        [[1., 1., 1., 1.],\n",
       "         [1., 1., 1., 1.],\n",
       "         [1., 1., 1., 1.]]])"
      ]
     },
     "execution_count": 6,
     "metadata": {},
     "output_type": "execute_result"
    }
   ],
   "source": [
    "main.pointwise_multiply(torch.ones(2, 3, 4), torch.ones(1, 1, 4))"
   ]
  },
  {
   "cell_type": "code",
   "execution_count": 7,
   "id": "bd363303-89bb-4407-b865-dd9162c2b7af",
   "metadata": {},
   "outputs": [
    {
     "data": {
      "text/plain": [
       "tensor([0.0206, 1.2450, 0.5967, 0.8929, 0.8557])"
      ]
     },
     "execution_count": 7,
     "metadata": {},
     "output_type": "execute_result"
    }
   ],
   "source": [
    "main.random_chisq(5)"
   ]
  },
  {
   "cell_type": "code",
   "execution_count": 8,
   "id": "95d50107-40cc-48c2-bc6a-2a911ab40e68",
   "metadata": {},
   "outputs": [
    {
     "data": {
      "text/plain": [
       "tensor([1., 2., 3., 4., 5., 6.], dtype=torch.float64)"
      ]
     },
     "execution_count": 8,
     "metadata": {},
     "output_type": "execute_result"
    }
   ],
   "source": [
    "main.tail(torch.arange(7, dtype=float))"
   ]
  },
  {
   "cell_type": "code",
   "execution_count": 27,
   "id": "a9ec64d2-f38d-44ac-9337-661cafdff570",
   "metadata": {},
   "outputs": [],
   "source": [
    "synthetic = main.generate(\n",
    "    p=5,\n",
    "    k=3,\n",
    "    n=150,\n",
    "    sigma=0.1\n",
    ")"
   ]
  },
  {
   "cell_type": "code",
   "execution_count": 28,
   "id": "eacf246b-b33e-44c9-83e7-9b9d59e21303",
   "metadata": {},
   "outputs": [],
   "source": [
    "x = synthetic.x\n",
    "y = synthetic.y\n",
    "beta_hat = main.multiple_linear_regression(x, y)"
   ]
  },
  {
   "cell_type": "code",
   "execution_count": 29,
   "id": "472c6e01-4894-4310-8db7-8ef7f32ec2e3",
   "metadata": {},
   "outputs": [
    {
     "data": {
      "text/plain": [
       "tensor([[0.1321, 0.1523, 0.6559],\n",
       "        [0.0217, 0.3609, 0.7609],\n",
       "        [0.6095, 0.9824, 0.0342],\n",
       "        [0.1445, 0.4515, 0.1965],\n",
       "        [0.5076, 0.5499, 0.1848]])"
      ]
     },
     "execution_count": 29,
     "metadata": {},
     "output_type": "execute_result"
    }
   ],
   "source": [
    "synthetic.beta"
   ]
  },
  {
   "cell_type": "code",
   "execution_count": 30,
   "id": "a980a435-3052-4f4a-85ef-e4eadbadc2e7",
   "metadata": {},
   "outputs": [
    {
     "data": {
      "text/plain": [
       "tensor([[0.1469, 0.1812, 0.6790],\n",
       "        [0.0529, 0.3623, 0.7834],\n",
       "        [0.6396, 1.0071, 0.0484],\n",
       "        [0.1563, 0.4698, 0.2198],\n",
       "        [0.5133, 0.5760, 0.1992]])"
      ]
     },
     "execution_count": 30,
     "metadata": {},
     "output_type": "execute_result"
    }
   ],
   "source": [
    "beta_hat"
   ]
  },
  {
   "cell_type": "code",
   "execution_count": 31,
   "id": "1e4628b3-dd5b-48d0-a270-b20b57e900a0",
   "metadata": {},
   "outputs": [
    {
     "name": "stdout",
     "output_type": "stream",
     "text": [
      "R2 is 0.9991446137428284, R is 0.999572217464447\n"
     ]
    }
   ],
   "source": [
    "yhat = main.predict(beta_hat, x)\n",
    "err = y - yhat\n",
    "r2 = 1 - (err ** 2).sum() / (y ** 2).sum()\n",
    "print(f\"R2 is {r2}, R is {r2 ** 0.5}\")"
   ]
  },
  {
   "cell_type": "code",
   "execution_count": null,
   "id": "6ba9d59d-1efd-4334-a91b-36932b2f3f0f",
   "metadata": {},
   "outputs": [],
   "source": []
  }
 ],
 "metadata": {
  "kernelspec": {
   "display_name": "Python 3 (ipykernel)",
   "language": "python",
   "name": "python3"
  },
  "language_info": {
   "codemirror_mode": {
    "name": "ipython",
    "version": 3
   },
   "file_extension": ".py",
   "mimetype": "text/x-python",
   "name": "python",
   "nbconvert_exporter": "python",
   "pygments_lexer": "ipython3",
   "version": "3.13.3"
  }
 },
 "nbformat": 4,
 "nbformat_minor": 5
}
